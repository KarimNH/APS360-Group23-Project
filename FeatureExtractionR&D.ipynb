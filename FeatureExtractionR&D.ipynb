{
 "cells": [
  {
   "cell_type": "code",
   "execution_count": 1,
   "metadata": {},
   "outputs": [],
   "source": [
    "import numpy as np\n",
    "from scipy import signal\n",
    "from scipy.fft import fftshift\n",
    "import matplotlib\n",
    "import matplotlib.pyplot as plt\n",
    "from scipy.fft import fft, fftfreq\n",
    "import gzip\n",
    "import pickle"
   ]
  },
  {
   "cell_type": "code",
   "execution_count": 2,
   "metadata": {},
   "outputs": [],
   "source": [
    "with gzip.open('.\\\\MyData.pkl', 'rb') as f:\n",
    "    loaded_data = pickle.load(f)"
   ]
  },
  {
   "cell_type": "code",
   "execution_count": 12,
   "metadata": {},
   "outputs": [
    {
     "name": "stdout",
     "output_type": "stream",
     "text": [
      "3615\n",
      "3615\n"
     ]
    }
   ],
   "source": [
    "print(len(loaded_data))\n",
    "def trim_channels(lst, max_channels=23):\n",
    "    trimmed_lst = []\n",
    "    for data, label in lst:\n",
    "        # If data contains more than max_channels channels, trim it\n",
    "        if len(data) > max_channels:\n",
    "            data = data[:max_channels]\n",
    "        if len(data) == max_channels:\n",
    "            trimmed_lst.append((data, label))\n",
    "    return trimmed_lst\n",
    "\n",
    "loaded_data = trim_channels(loaded_data)\n",
    "print(len(loaded_data))"
   ]
  },
  {
   "cell_type": "code",
   "execution_count": null,
   "metadata": {},
   "outputs": [],
   "source": [
    "processed_data = []\n",
    "N = len(loaded_data[0][0][0])\n",
    "\n",
    "\n",
    "# plt.xlim(left = 20)\n",
    "# plt.xlim(right = 60)\n",
    "# plt.ylim(top = 1*10**-5)\n",
    "# plt.ylim(bottom = 0)\n",
    "\n",
    "N = len(loaded_data[0][0][0])\n",
    "time_axis = np.arange(0, len(loaded_data[0][0][0])) /256\n",
    "T = 1.0 / 256\n",
    "x = np.linspace(0.0, N*T, N, endpoint=False)\n",
    "for window in loaded_data:\n",
    "    data, labels = window\n",
    "    maxim = True\n",
    "    for channel in data:\n",
    "        y = channel\n",
    "        yf1 = fft(y)\n",
    "        xf1 = fftfreq(N, T)[:N//2] \n",
    "        Y = (2.0/N * np.abs(yf1[0:N//2]))  \n",
    "        maxim &= max(Y[((np.where(xf1 == 50))[0][0]):((np.where(xf1 == 61))[0][0])]) < (1*10**-5) \n",
    "    if maxim == True:\n",
    "        processed_data.append((data,labels))\n",
    "    else:\n",
    "        print(labels)\n",
    "        plt.plot(time_axis, data[0])\n",
    "        plt.show()\n",
    "        plt.plot(xf1, 2.0/N * np.abs(yf1[0:N//2]))\n",
    "        plt.grid()\n",
    "        plt.show()"
   ]
  },
  {
   "cell_type": "code",
   "execution_count": null,
   "metadata": {},
   "outputs": [],
   "source": [
    "print((processed_data)[300])\n",
    "print(len(loaded_data))\n",
    "print(len(processed_data))"
   ]
  },
  {
   "cell_type": "code",
   "execution_count": null,
   "metadata": {},
   "outputs": [],
   "source": [
    "N = len(loaded_data[0][0][0])\n",
    "# sample spacing\n",
    "T = 1.0 / 256\n",
    "x = np.linspace(0.0, N*T, N, endpoint=False)\n",
    "y1 = loaded_data[300][0][0]\n",
    "yf1 = fft(y1)\n",
    "xf1 = fftfreq(N, T)[:N//2]\n",
    "\n",
    "\n",
    "plt.plot( xf1, 2.0/N * np.abs(yf1[0:N//2]))\n",
    "# plt.xlim(left = 20)\n",
    "# plt.xlim(right = 120)\n",
    "# plt.ylim(top = 3*10**-5)\n",
    "# plt.ylim(bottom = 0)\n",
    "plt.grid()\n",
    "plt.show()\n",
    "Y = (2.0/N * np.abs(yf1[0:N//2]))\n",
    "avg = max(Y[((np.where(xf1 == 50))[0][0]):((np.where(xf1 == 61))[0][0])])\n",
    "a = [5,10,65,12]\n",
    "print(avg)\n",
    "print((2.0/N * np.abs(yf1[0:N//2]))[1700])\n",
    "print(((np.where(xf1 == 60))[0][0]))\n",
    "print(xf1[1800])"
   ]
  },
  {
   "cell_type": "code",
   "execution_count": null,
   "metadata": {},
   "outputs": [],
   "source": [
    "labels = []\n",
    "channel = 10\n",
    "time_axis = np.arange(0, len(processed_data)) \n",
    "arr = []\n",
    "dt = 0\n",
    "for i in range(len(processed_data)):\n",
    "    # dt = np.var((processed_data[i][0][channel])) # variance\n",
    "    # dt = np.std((processed_data[i][0][channel])) # std deviation\n",
    "    # dt = np.average(abs((processed_data[i][0][channel]))) # mean/average (abs(loaded_data[i][0][channel]).sum())\n",
    "    # dt = np.median((abs((processed_data[i][0][channel])))) # median\n",
    "    dt = (abs(processed_data[i][0][channel]).sum())\n",
    "    arr.append(dt)\n",
    "    # labels.append((loaded_data[i][1])*np.max(dt)*0.25)\n",
    "    labels.append((processed_data[i][1])*np.max(dt)*0.25)\n",
    "plt.plot(time_axis, arr)\n",
    "# plt.ylim(top = 0.02)\n",
    "idx = []\n",
    "for i in (arr):\n",
    "    if i >= 1.5:\n",
    "        idx.append(np.where(arr == i))\n",
    "print(idx)\n",
    "plt.plot(time_axis, (labels))\n",
    "plt.show()"
   ]
  },
  {
   "cell_type": "code",
   "execution_count": null,
   "metadata": {},
   "outputs": [],
   "source": [
    "time = time_axis = np.arange(0, len(loaded_data[0][0][0])) /256\n",
    "# win1 = 2500\n",
    "# win2 = 2570\n",
    "# plt.plot(time, loaded_data[win1][0][0])\n",
    "# plt.show()\n",
    "# print(loaded_data[win1][1])\n",
    "# plt.plot(time, loaded_data[win2][0][0])\n",
    "# print(loaded_data[win2][1])\n",
    "# plt.show()\n",
    "# [(array([1357], dtype=int64),), (array([1358], dtype=int64),), (array([1359], dtype=int64),), (array([1360], dtype=int64),), (array([1361], dtype=int64),)]\n",
    "for i in range(1357,1361):\n",
    "    print(i)\n",
    "    print(processed_data[i][1])\n",
    "    plt.plot(time, processed_data[i][0][0])\n",
    "    plt.xlim(left = 0)\n",
    "    plt.xlim(right = 10)\n",
    "    plt.show()"
   ]
  },
  {
   "cell_type": "code",
   "execution_count": null,
   "metadata": {},
   "outputs": [],
   "source": [
    "a = 800\n",
    "window = 1353 #2571\n",
    "print(loaded_data[window])\n",
    "f, t, Sxx = signal.spectrogram(processed_data[window][0][0], fs = 256, nperseg = a, noverlap = a*0.8)\n",
    "plt.pcolormesh(t,f,Sxx)\n",
    "print(plt.gci().get_clim())\n",
    "plt.gci().set_clim(vmax= 7.01453255543141e-11, vmin=5.543070782601619e-18)\n",
    "plt.ylabel('Frequency [Hz]')\n",
    "plt.xlabel('Time [sec]')\n",
    "plt.ylim(bottom = 0)\n",
    "# plt.ylim(top = 21)\n",
    "plt.show()\n",
    "\n",
    "time_axis = np.arange(0, len(processed_data[299][0][0])) / 256.0 # in seconds        \n",
    "plt.plot(time_axis, processed_data[window][0][0])\n",
    "plt.ylim(top=0.0006)  \n",
    "plt.ylim(bottom=-0.0006)  \n",
    "plt.show()\n",
    "print(len(Sxx))\n",
    "print(Sxx)"
   ]
  },
  {
   "cell_type": "code",
   "execution_count": null,
   "metadata": {},
   "outputs": [],
   "source": [
    "N = len(loaded_data[0][0][0])\n",
    "win1 = 1358\n",
    "win2 = 300\n",
    "# sample spacing\n",
    "T = 1.0 / 256\n",
    "x = np.linspace(0.0, N*T, N, endpoint=False)\n",
    "y1 = loaded_data[win1][0][0]\n",
    "yf1 = fft(y1)\n",
    "xf1 = fftfreq(N, T)[:N//2]\n",
    "plt.plot(xf1, 2.0/N * np.abs(yf1[0:N//2]))\n",
    "plt.xlim(left = 20)\n",
    "plt.xlim(right = 60)\n",
    "plt.ylim(top = 1*10**-5)\n",
    "plt.ylim(bottom = 0)\n",
    "plt.grid()\n",
    "plt.show()\n",
    "\n",
    "\n",
    "y2 = loaded_data[win2][0][0]\n",
    "yf2 = fft(y2)\n",
    "xf2 = fftfreq(N, T)[:N//2]\n",
    "plt.plot(xf2, 2.0/N * np.abs(yf2[0:N//2]))\n",
    "plt.xlim(left = 20)\n",
    "plt.xlim(right = 60)\n",
    "plt.ylim(top = 1*10**-5)\n",
    "plt.ylim(bottom = 0)\n",
    "plt.grid()\n",
    "plt.show()\n",
    "\n",
    "\n",
    "time_axis = np.arange(0, len(processed_data[299][0][0])) / 256.0 # in seconds        \n",
    "plt.plot(time_axis, processed_data[win1][0][0])\n",
    "plt.ylim(top=0.0006)  \n",
    "plt.ylim(bottom=-0.0006)  \n",
    "plt.show()\n",
    "\n",
    "time_axis = np.arange(0, len(processed_data[299][0][0])) / 256.0 # in seconds        \n",
    "plt.plot(time_axis, processed_data[win2][0][0])\n",
    "plt.ylim(top=0.0006)  \n",
    "plt.ylim(bottom=-0.0006)  \n",
    "plt.show()"
   ]
  },
  {
   "cell_type": "code",
   "execution_count": null,
   "metadata": {},
   "outputs": [],
   "source": [
    "cou1=0\n",
    "cou2=0\n",
    "for i in range(0,len(loaded_data)):\n",
    "    if loaded_data[i][1] == True:\n",
    "        cou1 +=1\n",
    "for i in range(0,len(processed_data)):\n",
    "    if loaded_data[i][1] == True:\n",
    "        cou2 +=1\n",
    "print(cou1,cou2)"
   ]
  },
  {
   "cell_type": "code",
   "execution_count": 3,
   "metadata": {},
   "outputs": [],
   "source": [
    "N = len(loaded_data[0][0][0])\n",
    "# sample spacing\n",
    "T = 1.0 / 256\n",
    "x = np.linspace(0.0, N*T, N, endpoint=False)\n",
    "\n"
   ]
  },
  {
   "cell_type": "code",
   "execution_count": 15,
   "metadata": {},
   "outputs": [
    {
     "data": {
      "image/png": "[encoded data removed]",
      "text/plain": [
       "<Figure size 640x480 with 1 Axes>"
      ]
     },
     "metadata": {},
     "output_type": "display_data"
    }
   ],
   "source": [
    "labels = []\n",
    "channel = 0 # 2\n",
    "time_axis = np.arange(0, len(loaded_data)) \n",
    "arr = []\n",
    "dt = 0\n",
    "for i in range(len(loaded_data)):\n",
    "    # dt = np.var((loaded_data[i][0][channel])) # variance\n",
    "    # dt = np.std((loaded_data[i][0][channel])) # std deviation\n",
    "    # dt = np.average(abs((loaded_data[i][0][channel]))) # mean/average (abs(loaded_data[i][0][channel]).sum())\n",
    "    # dt = np.median((abs((loaded_data[i][0][channel])))) # median\n",
    "    y1 = loaded_data[i][0][channel]\n",
    "    yf1 = fft(y1)\n",
    "    xf1 = fftfreq(N, T)[:N//2]\n",
    "    dt = np.mean((2.0/N * np.abs(yf1[0:N//2]))[(np.where(xf1 == 0))[0][0]:((np.where(xf1 == 4))[0][0])])\n",
    "    # dt = (abs(loaded_data[i][0][channel]).sum())\n",
    "    arr.append(dt)\n",
    "    # labels.append((loaded_data[i][1])*np.max(dt)*0.25)\n",
    "    labels.append((loaded_data[i][1])*np.max(dt)*0.25)\n",
    "plt.plot(time_axis, arr)\n",
    "plt.plot(time_axis, (labels), label= \"Windows with Seizures\")\n",
    "plt.legend()\n",
    "plt.title('Feature Amplitude for all the Windows')\n",
    "plt.xlabel('Windows')\n",
    "plt.ylabel('Feature Amplitude')\n",
    "plt.show()"
   ]
  },
  {
   "cell_type": "code",
   "execution_count": 8,
   "metadata": {},
   "outputs": [],
   "source": [
    "N = len(loaded_data[0][0][0])\n",
    "T = 1.0 / 256\n",
    "x = np.linspace(0.0, N*T, N, endpoint=False)  \n",
    "new_data = []\n",
    "for window in loaded_data:\n",
    "    data, label = window\n",
    "    window_features = []\n",
    "    for channel in data:\n",
    "        features = []\n",
    "        y1 = channel\n",
    "        yf1 = fft(y1)\n",
    "        xf1 = fftfreq(N, T)[:N//2]\n",
    "        features.append((abs(channel).sum()))\n",
    "        features.append(np.var(channel))\n",
    "        features.append(np.median((abs((channel)))))\n",
    "        features.append(np.mean((2.0/N * np.abs(yf1[0:N//2]))[(np.where(xf1 == 0))[0][0]:((np.where(xf1 == 4))[0][0])]))\n",
    "        features.append(np.mean((2.0/N * np.abs(yf1[0:N//2]))[(np.where(xf1 == 4))[0][0]:((np.where(xf1 == 8))[0][0])]))\n",
    "        features.append(np.mean((2.0/N * np.abs(yf1[0:N//2]))[(np.where(xf1 == 8))[0][0]:((np.where(xf1 == 12))[0][0])]))\n",
    "        features.append(np.mean((2.0/N * np.abs(yf1[0:N//2]))[(np.where(xf1 == 12))[0][0]:((np.where(xf1 == 30))[0][0])]))\n",
    "        features.append(np.mean((2.0/N * np.abs(yf1[0:N//2]))[(np.where(xf1 == 30))[0][0]:((np.where(xf1 == 55))[0][0])]))\n",
    "        features.append(np.mean((2.0/N * np.abs(yf1[0:N//2]))[(np.where(xf1 == 55))[0][0]:((np.where(xf1 == 61))[0][0])]))\n",
    "        window_features.append(features)\n",
    "    new_data.append((np.array(window_features), label))"
   ]
  },
  {
   "cell_type": "code",
   "execution_count": 9,
   "metadata": {},
   "outputs": [],
   "source": [
    "with gzip.open('MyDataFeature.pkl', 'wb') as f:\n",
    "    pickle.dump(new_data, f)"
   ]
  },
  {
   "cell_type": "code",
   "execution_count": 14,
   "metadata": {},
   "outputs": [
    {
     "name": "stdout",
     "output_type": "stream",
     "text": [
      "9\n",
      "7680\n"
     ]
    }
   ],
   "source": [
    "print(len(new_data[0][0][0]))\n",
    "print(len(loaded_data[0][0][0]))"
   ]
  },
  {
   "cell_type": "code",
   "execution_count": null,
   "metadata": {},
   "outputs": [],
   "source": [
    "counter = 0 \n",
    "for i in range(len(new_data)):\n",
    "    if new_data[i][1] == True:\n",
    "        counter += 1\n",
    "        print(new_data[i])\n",
    "print(counter)"
   ]
  },
  {
   "cell_type": "code",
   "execution_count": 108,
   "metadata": {},
   "outputs": [
    {
     "name": "stdout",
     "output_type": "stream",
     "text": [
      "3615\n"
     ]
    }
   ],
   "source": [
    "from scipy.signal import resample\n",
    "downsample_hz = 100\n",
    "num_samples_downsampled = int((downsample_hz / 256) * len(loaded_data[0][0][0])) \n",
    "downsampled_data = []\n",
    "for window in loaded_data:\n",
    "    data, label = window\n",
    "    window_features = []\n",
    "    downsampled_window = []\n",
    "    for channel in data:\n",
    "        # rnd = np.random.randint(100, size=(1000))\n",
    "        # # rnd = np.arange(0,3000) \n",
    "        # downsampled_window.append(rnd)\n",
    "        downsampled_window.append(resample(channel,num_samples_downsampled)) \n",
    "    downsampled_data.append((np.array(downsampled_window),label))  # \n",
    "\n",
    "print(len(downsampled_data))\n",
    "\n",
    "# time1 = np.arange(0, len(loaded_data[0][0][0])) /256\n",
    "# time2 = np.arange(0,len(downsampled_window))/100\n",
    "# plt.plot(time1, loaded_data[297][0][0])\n",
    "# plt.show()\n",
    "# plt.plot(time2, downsampled_window)\n",
    "# plt.show()\n"
   ]
  },
  {
   "cell_type": "code",
   "execution_count": null,
   "metadata": {},
   "outputs": [],
   "source": [
    "with gzip.open('MyDataDownsampled.pkl', 'wb') as f:\n",
    "    pickle.dump(loaded_data, f)"
   ]
  },
  {
   "cell_type": "code",
   "execution_count": 107,
   "metadata": {},
   "outputs": [
    {
     "name": "stdout",
     "output_type": "stream",
     "text": [
      "1000\n",
      "te\n",
      "3615\n"
     ]
    },
    {
     "data": {
      "text/plain": [
       "29336"
      ]
     },
     "execution_count": 107,
     "metadata": {},
     "output_type": "execute_result"
    }
   ],
   "source": [
    "import sys\n",
    "print(len(downsampled_data[0][0][0]))\n",
    "print(\"te\")\n",
    "print(len(loaded_data))\n",
    "sys.getsizeof(downsampled_data)"
   ]
  },
  {
   "cell_type": "code",
   "execution_count": null,
   "metadata": {},
   "outputs": [],
   "source": [
    "for i in range(len(loaded_data)):\n",
    "    if loaded_data[i][1] == True:\n",
    "        plt.plot((np.arange(0,len(loaded_data[0][0][0]))/256),loaded_data[i][0][0])\n",
    "        print(i)\n",
    "        plt.ylim(top = 0.0004)\n",
    "        plt.ylim(bottom = -0.0004)\n",
    "        plt.title('Window Containing a Seizure')\n",
    "        plt.xlabel('Time (s)')\n",
    "        plt.ylabel('Signal Amplitude (μV)')\n",
    "        plt.show()\n",
    "        plt.plot((np.arange(0,len(loaded_data[0][0][0]))/256),loaded_data[i-2][0][0])\n",
    "        print(i-2)\n",
    "        plt.ylim(top = 0.0004)\n",
    "        plt.ylim(bottom = -0.0004)\n",
    "        plt.title('Window that Shows Normal Brain Acitivty')\n",
    "        plt.xlabel('Time (s)')\n",
    "        plt.ylabel('Signal Amplitude (μV)')\n",
    "        plt.show()"
   ]
  }
 ],
 "metadata": {
  "kernelspec": {
   "display_name": "Python 3",
   "language": "python",
   "name": "python3"
  },
  "language_info": {
   "codemirror_mode": {
    "name": "ipython",
    "version": 3
   },
   "file_extension": ".py",
   "mimetype": "text/x-python",
   "name": "python",
   "nbconvert_exporter": "python",
   "pygments_lexer": "ipython3",
   "version": "3.11.2"
  },
  "orig_nbformat": 4
 },
 "nbformat": 4,
 "nbformat_minor": 2
}
